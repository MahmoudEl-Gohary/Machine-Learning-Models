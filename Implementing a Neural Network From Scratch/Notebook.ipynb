{
 "cells": [
  {
   "cell_type": "code",
   "execution_count": 1,
   "id": "8a8faffb-b74b-4b38-82e3-d95e63ece03d",
   "metadata": {},
   "outputs": [],
   "source": [
    "import numpy as np\n",
    "from sklearn.datasets import load_digits\n",
    "from sklearn.model_selection import train_test_split\n",
    "\n",
    "from sklearn.metrics import confusion_matrix, ConfusionMatrixDisplay\n",
    "import matplotlib.pyplot as plt"
   ]
  },
  {
   "cell_type": "code",
   "execution_count": 2,
   "id": "8c92c667-8fd5-4b45-b547-934807bd9c12",
   "metadata": {},
   "outputs": [],
   "source": [
    "digits = load_digits()\n",
    "data, target = digits.data, digits.target"
   ]
  },
  {
   "cell_type": "code",
   "execution_count": 3,
   "id": "6f5ad3db-181f-4641-a9a6-b505f1dcc627",
   "metadata": {},
   "outputs": [],
   "source": [
    "data = data / 16.0"
   ]
  },
  {
   "cell_type": "code",
   "execution_count": 4,
   "id": "f4818f2e-78b1-496f-8bb9-f66be3a82405",
   "metadata": {},
   "outputs": [],
   "source": [
    "x_train, x_test, y_train, y_test = train_test_split(data, target, test_size=0.2, random_state=42)"
   ]
  },
  {
   "cell_type": "code",
   "execution_count": 5,
   "id": "4de78faa-e204-4e18-b12d-894ba84a5b07",
   "metadata": {},
   "outputs": [],
   "source": [
    "def relu(values):\n",
    "    return np.maximum(0, values)\n",
    "\n",
    "def softmax(values):\n",
    "    exp_values = np.exp(values - np.max(values, axis=1, keepdims=True))\n",
    "    return exp_values / np.sum(exp_values, axis=1, keepdims=True)"
   ]
  },
  {
   "cell_type": "code",
   "execution_count": 6,
   "id": "04f2a56a-ce3c-426f-b135-66ad6ddc077a",
   "metadata": {},
   "outputs": [],
   "source": [
    "def initialize_parameters(input_size=64, hidden_size=20, output_size=10):\n",
    "    input_to_hidden = {\n",
    "        \"weights\": np.random.randn(input_size, hidden_size) * np.sqrt(2 / input_size),\n",
    "        \"biases\": np.zeros((1, hidden_size)),\n",
    "    }\n",
    "    hidden_to_output = {\n",
    "        \"weights\": np.random.randn(hidden_size, output_size) * np.sqrt(2 / hidden_size),\n",
    "        \"biases\": np.zeros((1, output_size)),\n",
    "    }\n",
    "    return input_to_hidden, hidden_to_output"
   ]
  },
  {
   "cell_type": "code",
   "execution_count": 7,
   "id": "687b247b-b51d-42a4-bba2-0638c515b83d",
   "metadata": {},
   "outputs": [],
   "source": [
    "def forward_propagation(input_data, input_to_hidden, hidden_to_output):\n",
    "    hidden_layer_input = np.dot(input_data, input_to_hidden[\"weights\"]) + input_to_hidden[\"biases\"]\n",
    "    hidden_layer_output = relu(hidden_layer_input)\n",
    "\n",
    "    output_layer_input = np.dot(hidden_layer_output, hidden_to_output[\"weights\"]) + hidden_to_output[\"biases\"]\n",
    "    output_layer_output = softmax(output_layer_input)\n",
    "\n",
    "    return hidden_layer_output, output_layer_output"
   ]
  },
  {
   "cell_type": "code",
   "execution_count": 8,
   "id": "745759fe-e540-48ff-8032-4746218931e7",
   "metadata": {},
   "outputs": [],
   "source": [
    "def backward_propagation(input_data, target_data, hidden_output, output_output, input_to_hidden, hidden_to_output):\n",
    "    batch_size = input_data.shape[0]\n",
    "    target_one_hot = np.eye(10)[target_data]\n",
    "    \n",
    "    error_in_output = output_output - target_one_hot\n",
    "    gradient_hidden_to_output_weights = np.dot(hidden_output.T, error_in_output) / batch_size\n",
    "    gradient_hidden_to_output_biases = np.sum(error_in_output, axis=0, keepdims=True) / batch_size\n",
    "    \n",
    "    error_in_hidden = np.dot(error_in_output, hidden_to_output[\"weights\"].T) * (hidden_output > 0)\n",
    "    gradient_input_to_hidden_weights = np.dot(input_data.T, error_in_hidden) / batch_size\n",
    "    gradient_input_to_hidden_biases = np.sum(error_in_hidden, axis=0, keepdims=True) / batch_size\n",
    "    \n",
    "    gradients = {\n",
    "        \"input_to_hidden\": {\n",
    "            \"weights\": gradient_input_to_hidden_weights,\n",
    "            \"biases\": gradient_input_to_hidden_biases,\n",
    "        },\n",
    "        \"hidden_to_output\": {\n",
    "            \"weights\": gradient_hidden_to_output_weights,\n",
    "            \"biases\": gradient_hidden_to_output_biases,\n",
    "        },\n",
    "    }\n",
    "    \n",
    "    return gradients"
   ]
  },
  {
   "cell_type": "code",
   "execution_count": 9,
   "id": "015f2303-d469-436d-9fc9-3511172d36a0",
   "metadata": {},
   "outputs": [],
   "source": [
    "def update_parameters(input_to_hidden, hidden_to_output, gradients, learning_rate):\n",
    "    input_to_hidden[\"weights\"] -= learning_rate * gradients[\"input_to_hidden\"][\"weights\"]\n",
    "    input_to_hidden[\"biases\"] -= learning_rate * gradients[\"input_to_hidden\"][\"biases\"]\n",
    "    hidden_to_output[\"weights\"] -= learning_rate * gradients[\"hidden_to_output\"][\"weights\"]\n",
    "    hidden_to_output[\"biases\"] -= learning_rate * gradients[\"hidden_to_output\"][\"biases\"]\n",
    "    \n",
    "    return input_to_hidden, hidden_to_output"
   ]
  },
  {
   "cell_type": "code",
   "execution_count": 10,
   "id": "70b8388e-97b1-48ee-ac0a-2b957766a966",
   "metadata": {},
   "outputs": [],
   "source": [
    "def get_predictions(output):\n",
    "    return np.argmax(output, axis=1)"
   ]
  },
  {
   "cell_type": "code",
   "execution_count": 11,
   "id": "c202e4f5-287a-4f69-8568-5b5f1ba0e5e6",
   "metadata": {},
   "outputs": [],
   "source": [
    "def calculate_accuracy(predictions, targets):\n",
    "    return np.mean(predictions == targets)"
   ]
  },
  {
   "cell_type": "code",
   "execution_count": 12,
   "id": "4295eb0d-c31c-4a32-aa4c-abb386f5410a",
   "metadata": {},
   "outputs": [],
   "source": [
    "def gradient_descent(input_data, target_data, learning_rate=0.01, iterations=1000):\n",
    "    input_to_hidden, hidden_to_output = initialize_parameters()\n",
    "    \n",
    "    for iteration in range(iterations):\n",
    "        hidden_output, output_output = forward_propagation(input_data, input_to_hidden, hidden_to_output)\n",
    "        gradients = backward_propagation(input_data, target_data, hidden_output, output_output, input_to_hidden, hidden_to_output)\n",
    "        \n",
    "        input_to_hidden, hidden_to_output = update_parameters(input_to_hidden, hidden_to_output, gradients, learning_rate)\n",
    "        \n",
    "        if iteration % 100 == 0:\n",
    "            predictions = get_predictions(output_output)\n",
    "            accuracy = calculate_accuracy(predictions, target_data)\n",
    "            print(f\"Iteration {iteration}: Accuracy = {accuracy:.4f}\")\n",
    "    \n",
    "    return input_to_hidden, hidden_to_output"
   ]
  },
  {
   "cell_type": "code",
   "execution_count": 13,
   "id": "4df93740-8f91-4d75-a6c7-f0e62a67179d",
   "metadata": {},
   "outputs": [
    {
     "name": "stdout",
     "output_type": "stream",
     "text": [
      "Iteration 0: Accuracy = 0.0745\n",
      "Iteration 100: Accuracy = 0.1447\n",
      "Iteration 200: Accuracy = 0.2366\n",
      "Iteration 300: Accuracy = 0.3361\n",
      "Iteration 400: Accuracy = 0.4642\n",
      "Iteration 500: Accuracy = 0.5477\n",
      "Iteration 600: Accuracy = 0.6152\n",
      "Iteration 700: Accuracy = 0.6743\n",
      "Iteration 800: Accuracy = 0.7237\n",
      "Iteration 900: Accuracy = 0.7557\n"
     ]
    }
   ],
   "source": [
    "input_to_hidden, hidden_to_output = gradient_descent(x_train, y_train, learning_rate=0.01, iterations=1000)"
   ]
  },
  {
   "cell_type": "code",
   "execution_count": 14,
   "id": "baebcf54-c77d-4fd7-a6de-ed9a2e9e65b7",
   "metadata": {},
   "outputs": [
    {
     "name": "stdout",
     "output_type": "stream",
     "text": [
      "Test Accuracy: 0.7917\n"
     ]
    }
   ],
   "source": [
    "hidden_output, output_output = forward_propagation(x_test, input_to_hidden, hidden_to_output)\n",
    "predictions = get_predictions(output_output)\n",
    "accuracy = calculate_accuracy(predictions, y_test)\n",
    "print(f\"Test Accuracy: {accuracy:.4f}\")"
   ]
  },
  {
   "cell_type": "code",
   "execution_count": 15,
   "id": "1dc51624-77f6-4ffc-9c25-bab5cf4942ee",
   "metadata": {},
   "outputs": [],
   "source": [
    "confusion = confusion_matrix(y_test, predictions)"
   ]
  },
  {
   "cell_type": "code",
   "execution_count": 16,
   "id": "17cec9cb-2738-4577-9dc0-4be308c45099",
   "metadata": {},
   "outputs": [
    {
     "data": {
      "image/png": "[encoded data removed]",
      "text/plain": [
       "<Figure size 640x480 with 2 Axes>"
      ]
     },
     "metadata": {},
     "output_type": "display_data"
    }
   ],
   "source": [
    "ConfusionMatrixDisplay(confusion_matrix=confusion).plot()\n",
    "plt.show()"
   ]
  }
 ],
 "metadata": {
  "kernelspec": {
   "display_name": "Python 3 (ipykernel)",
   "language": "python",
   "name": "python3"
  },
  "language_info": {
   "codemirror_mode": {
    "name": "ipython",
    "version": 3
   },
   "file_extension": ".py",
   "mimetype": "text/x-python",
   "name": "python",
   "nbconvert_exporter": "python",
   "pygments_lexer": "ipython3",
   "version": "3.12.3"
  }
 },
 "nbformat": 4,
 "nbformat_minor": 5
}
