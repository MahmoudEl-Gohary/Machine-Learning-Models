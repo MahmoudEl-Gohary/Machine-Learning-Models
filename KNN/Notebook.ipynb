{
 "cells": [
  {
   "cell_type": "markdown",
   "id": "6f76d8d2",
   "metadata": {},
   "source": [
    "<div style='font-family: \"Times New Roman\"'>\n",
    "    <h1 align=\"center\">Zewail City of Science and Technology</h1>\n",
    "    <h2 align=\"center\">CSAI 253 - Machine Learning</h2>\n",
    "    <h3 align=\"center\">Assignment 1: KNN </h3>\n",
    "</div>"
   ]
  },
  {
   "cell_type": "markdown",
   "id": "259c207b",
   "metadata": {},
   "source": [
    "--------------"
   ]
  },
  {
   "cell_type": "markdown",
   "id": "fa333789",
   "metadata": {},
   "source": [
    "<h4> Assignemnt main keypoints: </h4>\n",
    "<ul>\n",
    "    <li>Download “IRIS” Data set (three flowers) [150 Samples] </li>\n",
    "    <li>Use PCA to visualize the Dataset (as 2-D) [Optional] </li>\n",
    "    <li>Divide the data into 80% Training, 20% test [120 , 30 samples] </li>\n",
    "    <li>Apply KNN with K=3, 5, and 7 on Test Samples. </li>\n",
    "    <li>Calculate the classification accuracy for each K, Which is the best? </li>\n",
    "    <li>Normalize the IRIS dataset and repeat steps 4 and 5. Compare </li>\n",
    "    <li>with previous results, does normalization affect the accuracy ?</li>\n",
    "<ul>"
   ]
  },
  {
   "cell_type": "markdown",
   "id": "28bef2ee",
   "metadata": {},
   "source": [
    "--------------"
   ]
  },
  {
   "cell_type": "markdown",
   "id": "b4266ef2",
   "metadata": {},
   "source": [
    "### Importing the needed libraries"
   ]
  },
  {
   "cell_type": "code",
   "execution_count": 1,
   "id": "d55c25ad",
   "metadata": {},
   "outputs": [],
   "source": [
    "import numpy as np\n",
    "import pandas as pd\n",
    "from sklearn import datasets\n",
    "from collections import Counter\n",
    "from sklearn.metrics import accuracy_score\n",
    "from sklearn.preprocessing import Normalizer\n",
    "from sklearn.neighbors import KNeighborsClassifier\n",
    "from sklearn.model_selection import train_test_split"
   ]
  },
  {
   "cell_type": "markdown",
   "id": "c48ab28f",
   "metadata": {},
   "source": [
    "### Loading the Iris dataset"
   ]
  },
  {
   "cell_type": "code",
   "execution_count": 2,
   "id": "1d2c8ce2",
   "metadata": {},
   "outputs": [],
   "source": [
    "iris = datasets.load_iris()\n",
    "iris_df = pd.DataFrame(data = np.c_[iris['data'], iris['target']], columns = iris['feature_names'] + ['target'])"
   ]
  },
  {
   "cell_type": "markdown",
   "id": "d036abe6",
   "metadata": {},
   "source": [
    "### Exploring the Iris dataset"
   ]
  },
  {
   "cell_type": "code",
   "execution_count": 3,
   "id": "1c3a871a",
   "metadata": {},
   "outputs": [
    {
     "data": {
      "text/html": [
       "<div>\n",
       "<style scoped>\n",
       "    .dataframe tbody tr th:only-of-type {\n",
       "        vertical-align: middle;\n",
       "    }\n",
       "\n",
       "    .dataframe tbody tr th {\n",
       "        vertical-align: top;\n",
       "    }\n",
       "\n",
       "    .dataframe thead th {\n",
       "        text-align: right;\n",
       "    }\n",
       "</style>\n",
       "<table border=\"1\" class=\"dataframe\">\n",
       "  <thead>\n",
       "    <tr style=\"text-align: right;\">\n",
       "      <th></th>\n",
       "      <th>sepal length (cm)</th>\n",
       "      <th>sepal width (cm)</th>\n",
       "      <th>petal length (cm)</th>\n",
       "      <th>petal width (cm)</th>\n",
       "      <th>target</th>\n",
       "    </tr>\n",
       "  </thead>\n",
       "  <tbody>\n",
       "    <tr>\n",
       "      <th>0</th>\n",
       "      <td>5.1</td>\n",
       "      <td>3.5</td>\n",
       "      <td>1.4</td>\n",
       "      <td>0.2</td>\n",
       "      <td>0.0</td>\n",
       "    </tr>\n",
       "    <tr>\n",
       "      <th>1</th>\n",
       "      <td>4.9</td>\n",
       "      <td>3.0</td>\n",
       "      <td>1.4</td>\n",
       "      <td>0.2</td>\n",
       "      <td>0.0</td>\n",
       "    </tr>\n",
       "    <tr>\n",
       "      <th>2</th>\n",
       "      <td>4.7</td>\n",
       "      <td>3.2</td>\n",
       "      <td>1.3</td>\n",
       "      <td>0.2</td>\n",
       "      <td>0.0</td>\n",
       "    </tr>\n",
       "    <tr>\n",
       "      <th>3</th>\n",
       "      <td>4.6</td>\n",
       "      <td>3.1</td>\n",
       "      <td>1.5</td>\n",
       "      <td>0.2</td>\n",
       "      <td>0.0</td>\n",
       "    </tr>\n",
       "    <tr>\n",
       "      <th>4</th>\n",
       "      <td>5.0</td>\n",
       "      <td>3.6</td>\n",
       "      <td>1.4</td>\n",
       "      <td>0.2</td>\n",
       "      <td>0.0</td>\n",
       "    </tr>\n",
       "  </tbody>\n",
       "</table>\n",
       "</div>"
      ],
      "text/plain": [
       "   sepal length (cm)  sepal width (cm)  petal length (cm)  petal width (cm)  \\\n",
       "0                5.1               3.5                1.4               0.2   \n",
       "1                4.9               3.0                1.4               0.2   \n",
       "2                4.7               3.2                1.3               0.2   \n",
       "3                4.6               3.1                1.5               0.2   \n",
       "4                5.0               3.6                1.4               0.2   \n",
       "\n",
       "   target  \n",
       "0     0.0  \n",
       "1     0.0  \n",
       "2     0.0  \n",
       "3     0.0  \n",
       "4     0.0  "
      ]
     },
     "execution_count": 3,
     "metadata": {},
     "output_type": "execute_result"
    }
   ],
   "source": [
    "iris_df.head()"
   ]
  },
  {
   "cell_type": "code",
   "execution_count": 4,
   "id": "a034e0ca",
   "metadata": {},
   "outputs": [
    {
     "name": "stdout",
     "output_type": "stream",
     "text": [
      "<class 'pandas.core.frame.DataFrame'>\n",
      "RangeIndex: 150 entries, 0 to 149\n",
      "Data columns (total 5 columns):\n",
      " #   Column             Non-Null Count  Dtype  \n",
      "---  ------             --------------  -----  \n",
      " 0   sepal length (cm)  150 non-null    float64\n",
      " 1   sepal width (cm)   150 non-null    float64\n",
      " 2   petal length (cm)  150 non-null    float64\n",
      " 3   petal width (cm)   150 non-null    float64\n",
      " 4   target             150 non-null    float64\n",
      "dtypes: float64(5)\n",
      "memory usage: 6.0 KB\n"
     ]
    }
   ],
   "source": [
    "iris_df.info()"
   ]
  },
  {
   "cell_type": "code",
   "execution_count": 5,
   "id": "62d67bf8",
   "metadata": {},
   "outputs": [
    {
     "data": {
      "text/html": [
       "<div>\n",
       "<style scoped>\n",
       "    .dataframe tbody tr th:only-of-type {\n",
       "        vertical-align: middle;\n",
       "    }\n",
       "\n",
       "    .dataframe tbody tr th {\n",
       "        vertical-align: top;\n",
       "    }\n",
       "\n",
       "    .dataframe thead th {\n",
       "        text-align: right;\n",
       "    }\n",
       "</style>\n",
       "<table border=\"1\" class=\"dataframe\">\n",
       "  <thead>\n",
       "    <tr style=\"text-align: right;\">\n",
       "      <th></th>\n",
       "      <th>sepal length (cm)</th>\n",
       "      <th>sepal width (cm)</th>\n",
       "      <th>petal length (cm)</th>\n",
       "      <th>petal width (cm)</th>\n",
       "      <th>target</th>\n",
       "    </tr>\n",
       "  </thead>\n",
       "  <tbody>\n",
       "    <tr>\n",
       "      <th>count</th>\n",
       "      <td>150.000000</td>\n",
       "      <td>150.000000</td>\n",
       "      <td>150.000000</td>\n",
       "      <td>150.000000</td>\n",
       "      <td>150.000000</td>\n",
       "    </tr>\n",
       "    <tr>\n",
       "      <th>mean</th>\n",
       "      <td>5.843333</td>\n",
       "      <td>3.057333</td>\n",
       "      <td>3.758000</td>\n",
       "      <td>1.199333</td>\n",
       "      <td>1.000000</td>\n",
       "    </tr>\n",
       "    <tr>\n",
       "      <th>std</th>\n",
       "      <td>0.828066</td>\n",
       "      <td>0.435866</td>\n",
       "      <td>1.765298</td>\n",
       "      <td>0.762238</td>\n",
       "      <td>0.819232</td>\n",
       "    </tr>\n",
       "    <tr>\n",
       "      <th>min</th>\n",
       "      <td>4.300000</td>\n",
       "      <td>2.000000</td>\n",
       "      <td>1.000000</td>\n",
       "      <td>0.100000</td>\n",
       "      <td>0.000000</td>\n",
       "    </tr>\n",
       "    <tr>\n",
       "      <th>25%</th>\n",
       "      <td>5.100000</td>\n",
       "      <td>2.800000</td>\n",
       "      <td>1.600000</td>\n",
       "      <td>0.300000</td>\n",
       "      <td>0.000000</td>\n",
       "    </tr>\n",
       "    <tr>\n",
       "      <th>50%</th>\n",
       "      <td>5.800000</td>\n",
       "      <td>3.000000</td>\n",
       "      <td>4.350000</td>\n",
       "      <td>1.300000</td>\n",
       "      <td>1.000000</td>\n",
       "    </tr>\n",
       "    <tr>\n",
       "      <th>75%</th>\n",
       "      <td>6.400000</td>\n",
       "      <td>3.300000</td>\n",
       "      <td>5.100000</td>\n",
       "      <td>1.800000</td>\n",
       "      <td>2.000000</td>\n",
       "    </tr>\n",
       "    <tr>\n",
       "      <th>max</th>\n",
       "      <td>7.900000</td>\n",
       "      <td>4.400000</td>\n",
       "      <td>6.900000</td>\n",
       "      <td>2.500000</td>\n",
       "      <td>2.000000</td>\n",
       "    </tr>\n",
       "  </tbody>\n",
       "</table>\n",
       "</div>"
      ],
      "text/plain": [
       "       sepal length (cm)  sepal width (cm)  petal length (cm)  \\\n",
       "count         150.000000        150.000000         150.000000   \n",
       "mean            5.843333          3.057333           3.758000   \n",
       "std             0.828066          0.435866           1.765298   \n",
       "min             4.300000          2.000000           1.000000   \n",
       "25%             5.100000          2.800000           1.600000   \n",
       "50%             5.800000          3.000000           4.350000   \n",
       "75%             6.400000          3.300000           5.100000   \n",
       "max             7.900000          4.400000           6.900000   \n",
       "\n",
       "       petal width (cm)      target  \n",
       "count        150.000000  150.000000  \n",
       "mean           1.199333    1.000000  \n",
       "std            0.762238    0.819232  \n",
       "min            0.100000    0.000000  \n",
       "25%            0.300000    0.000000  \n",
       "50%            1.300000    1.000000  \n",
       "75%            1.800000    2.000000  \n",
       "max            2.500000    2.000000  "
      ]
     },
     "execution_count": 5,
     "metadata": {},
     "output_type": "execute_result"
    }
   ],
   "source": [
    "iris_df.describe()"
   ]
  },
  {
   "cell_type": "code",
   "execution_count": 6,
   "id": "51bc15d6",
   "metadata": {},
   "outputs": [
    {
     "data": {
      "text/plain": [
       "sepal length (cm)    0\n",
       "sepal width (cm)     0\n",
       "petal length (cm)    0\n",
       "petal width (cm)     0\n",
       "target               0\n",
       "dtype: int64"
      ]
     },
     "execution_count": 6,
     "metadata": {},
     "output_type": "execute_result"
    }
   ],
   "source": [
    "iris_df.isnull().sum()"
   ]
  },
  {
   "cell_type": "code",
   "execution_count": 7,
   "id": "bb4f87ec",
   "metadata": {},
   "outputs": [
    {
     "name": "stdout",
     "output_type": "stream",
     "text": [
      "Duplicate Values --> 1 value(s)\n"
     ]
    }
   ],
   "source": [
    "print(f\"Duplicate Values --> {iris_df.duplicated().sum()} value(s)\")"
   ]
  },
  {
   "cell_type": "code",
   "execution_count": 8,
   "id": "d08a0ad6",
   "metadata": {},
   "outputs": [
    {
     "name": "stdout",
     "output_type": "stream",
     "text": [
      "duplicate values --> 0 value(s)\n"
     ]
    }
   ],
   "source": [
    "iris_df = iris_df.drop_duplicates()\n",
    "print(f\"duplicate values --> {iris_df.duplicated().sum()} value(s)\")"
   ]
  },
  {
   "cell_type": "markdown",
   "id": "0a8dfe53",
   "metadata": {},
   "source": [
    "-----------"
   ]
  },
  {
   "cell_type": "markdown",
   "id": "2e0e4eea",
   "metadata": {},
   "source": [
    "### Spliting data into Features(X) and Target Values(Y)"
   ]
  },
  {
   "cell_type": "code",
   "execution_count": 9,
   "id": "d15bccdf",
   "metadata": {},
   "outputs": [],
   "source": [
    "X = iris_df.iloc[:, 0:-1]\n",
    "y = iris_df.iloc[:, -1]"
   ]
  },
  {
   "cell_type": "code",
   "execution_count": 10,
   "id": "9a62f0ea",
   "metadata": {},
   "outputs": [
    {
     "data": {
      "text/html": [
       "<div>\n",
       "<style scoped>\n",
       "    .dataframe tbody tr th:only-of-type {\n",
       "        vertical-align: middle;\n",
       "    }\n",
       "\n",
       "    .dataframe tbody tr th {\n",
       "        vertical-align: top;\n",
       "    }\n",
       "\n",
       "    .dataframe thead th {\n",
       "        text-align: right;\n",
       "    }\n",
       "</style>\n",
       "<table border=\"1\" class=\"dataframe\">\n",
       "  <thead>\n",
       "    <tr style=\"text-align: right;\">\n",
       "      <th></th>\n",
       "      <th>sepal length (cm)</th>\n",
       "      <th>sepal width (cm)</th>\n",
       "      <th>petal length (cm)</th>\n",
       "      <th>petal width (cm)</th>\n",
       "    </tr>\n",
       "  </thead>\n",
       "  <tbody>\n",
       "    <tr>\n",
       "      <th>0</th>\n",
       "      <td>5.1</td>\n",
       "      <td>3.5</td>\n",
       "      <td>1.4</td>\n",
       "      <td>0.2</td>\n",
       "    </tr>\n",
       "    <tr>\n",
       "      <th>1</th>\n",
       "      <td>4.9</td>\n",
       "      <td>3.0</td>\n",
       "      <td>1.4</td>\n",
       "      <td>0.2</td>\n",
       "    </tr>\n",
       "    <tr>\n",
       "      <th>2</th>\n",
       "      <td>4.7</td>\n",
       "      <td>3.2</td>\n",
       "      <td>1.3</td>\n",
       "      <td>0.2</td>\n",
       "    </tr>\n",
       "    <tr>\n",
       "      <th>3</th>\n",
       "      <td>4.6</td>\n",
       "      <td>3.1</td>\n",
       "      <td>1.5</td>\n",
       "      <td>0.2</td>\n",
       "    </tr>\n",
       "    <tr>\n",
       "      <th>4</th>\n",
       "      <td>5.0</td>\n",
       "      <td>3.6</td>\n",
       "      <td>1.4</td>\n",
       "      <td>0.2</td>\n",
       "    </tr>\n",
       "  </tbody>\n",
       "</table>\n",
       "</div>"
      ],
      "text/plain": [
       "   sepal length (cm)  sepal width (cm)  petal length (cm)  petal width (cm)\n",
       "0                5.1               3.5                1.4               0.2\n",
       "1                4.9               3.0                1.4               0.2\n",
       "2                4.7               3.2                1.3               0.2\n",
       "3                4.6               3.1                1.5               0.2\n",
       "4                5.0               3.6                1.4               0.2"
      ]
     },
     "execution_count": 10,
     "metadata": {},
     "output_type": "execute_result"
    }
   ],
   "source": [
    "X.head()"
   ]
  },
  {
   "cell_type": "code",
   "execution_count": 11,
   "id": "ac5ba44f",
   "metadata": {},
   "outputs": [
    {
     "data": {
      "text/plain": [
       "0    0.0\n",
       "1    0.0\n",
       "2    0.0\n",
       "3    0.0\n",
       "4    0.0\n",
       "Name: target, dtype: float64"
      ]
     },
     "execution_count": 11,
     "metadata": {},
     "output_type": "execute_result"
    }
   ],
   "source": [
    "y.head()"
   ]
  },
  {
   "cell_type": "markdown",
   "id": "79f4d667",
   "metadata": {},
   "source": [
    "------------"
   ]
  },
  {
   "cell_type": "markdown",
   "id": "4eeaaba6",
   "metadata": {},
   "source": [
    "### Dividing the data into 80% Training, 20% test"
   ]
  },
  {
   "cell_type": "code",
   "execution_count": 12,
   "id": "4802f47b",
   "metadata": {},
   "outputs": [],
   "source": [
    "X_train, X_test, y_train, y_test = train_test_split(X, y, test_size=0.2, random_state=0, shuffle=True)\n",
    "\n",
    "X_train = np.asarray(X_train)\n",
    "y_train = np.asarray(y_train)\n",
    "\n",
    "X_test = np.asarray(X_test)\n",
    "y_test = np.asarray(y_test)"
   ]
  },
  {
   "cell_type": "code",
   "execution_count": 13,
   "id": "858e0921",
   "metadata": {},
   "outputs": [
    {
     "name": "stdout",
     "output_type": "stream",
     "text": [
      "[-] training set size: 119 sample(s).\n",
      "[-] test set size: 30 sample(s).\n"
     ]
    }
   ],
   "source": [
    "print(f\"[-] training set size: {X_train.shape[0]} sample(s).\\n[-] test set size: {X_test.shape[0]} sample(s).\")"
   ]
  },
  {
   "cell_type": "markdown",
   "id": "63670e17",
   "metadata": {},
   "source": [
    "------"
   ]
  },
  {
   "cell_type": "markdown",
   "id": "5241639b",
   "metadata": {},
   "source": [
    "### Normalizing the dataset"
   ]
  },
  {
   "cell_type": "code",
   "execution_count": 14,
   "id": "f67c8c81",
   "metadata": {},
   "outputs": [],
   "source": [
    "normalizer = Normalizer()\n",
    "normalizer.fit(X_train)\n",
    "X_train_normalized = normalizer.transform(X_train)\n",
    "X_test_normalized  = normalizer.transform(X_test)"
   ]
  },
  {
   "cell_type": "code",
   "execution_count": 15,
   "id": "64a4ceb3",
   "metadata": {},
   "outputs": [
    {
     "name": "stdout",
     "output_type": "stream",
     "text": [
      "[[5.2 3.5 1.5 0.2]\n",
      " [6.2 2.9 4.3 1.3]\n",
      " [5.7 2.9 4.2 1.3]\n",
      " [5.6 2.5 3.9 1.1]\n",
      " [5.7 3.8 1.7 0.3]]\n"
     ]
    }
   ],
   "source": [
    "print(X_train[0:5])"
   ]
  },
  {
   "cell_type": "code",
   "execution_count": 16,
   "id": "8d20f937",
   "metadata": {},
   "outputs": [
    {
     "name": "stdout",
     "output_type": "stream",
     "text": [
      "[[0.80641965 0.54278246 0.23262105 0.03101614]\n",
      " [0.75728103 0.3542121  0.52521104 0.15878473]\n",
      " [0.73446047 0.37367287 0.5411814  0.16750853]\n",
      " [0.76185188 0.34011245 0.53057542 0.14964948]\n",
      " [0.8068282  0.53788547 0.24063297 0.04246464]]\n"
     ]
    }
   ],
   "source": [
    "print(X_train_normalized[0:5])"
   ]
  },
  {
   "cell_type": "markdown",
   "id": "80202cee",
   "metadata": {},
   "source": [
    "---------"
   ]
  },
  {
   "cell_type": "markdown",
   "id": "7c50db6c",
   "metadata": {},
   "source": [
    "# <div style=\"text-align:center\" > Implemeneting KNN from scratch </div>"
   ]
  },
  {
   "cell_type": "markdown",
   "id": "dec98a5f",
   "metadata": {},
   "source": [
    "### 1- Calculating the distance using Eculidean algorithm"
   ]
  },
  {
   "cell_type": "code",
   "execution_count": 17,
   "id": "aa800a8e",
   "metadata": {},
   "outputs": [],
   "source": [
    "def distance_ecu(x_train, x_test_point):\n",
    "    distances = []\n",
    "    for i in range(len(x_train)):\n",
    "        current_distance = 0\n",
    "        current_train_point = x_train[i]\n",
    "        for col in range(len(current_train_point)):\n",
    "            current_distance += (current_train_point[col] - x_test_point[col])**2\n",
    "        current_distance = np.sqrt(current_distance)\n",
    "        distances.append(current_distance)\n",
    "    distances = pd.DataFrame(data=distances, columns=['index'])\n",
    "    return distances"
   ]
  },
  {
   "cell_type": "markdown",
   "id": "7094064e",
   "metadata": {},
   "source": [
    "### 2- Find the nearest neighbors"
   ]
  },
  {
   "cell_type": "code",
   "execution_count": 18,
   "id": "7284dd09",
   "metadata": {},
   "outputs": [],
   "source": [
    "def nearest_neighbors(distance_point , K):\n",
    "    df_nearest = distance_point.sort_values(by='index')\n",
    "    df_nearest = df_nearest.head(K)\n",
    "    return df_nearest"
   ]
  },
  {
   "cell_type": "markdown",
   "id": "a243db36",
   "metadata": {},
   "source": [
    "### 3- Classifying the point based on a majority vote"
   ]
  },
  {
   "cell_type": "code",
   "execution_count": 19,
   "id": "9836736b",
   "metadata": {},
   "outputs": [],
   "source": [
    "def voting(df_nearest , y_train):\n",
    "    counter_vote = Counter(y_train[df_nearest.index])\n",
    "    y_pred = counter_vote.most_common(1)[0][0]\n",
    "    return y_pred"
   ]
  },
  {
   "cell_type": "markdown",
   "id": "28bc963d",
   "metadata": {},
   "source": [
    "### 4- KNN Full Algorithm"
   ]
  },
  {
   "cell_type": "code",
   "execution_count": 20,
   "id": "97f6f84a",
   "metadata": {},
   "outputs": [],
   "source": [
    "def KNN_from_scratch(x_train, y_train, x_test, k):\n",
    "    y_pred = []\n",
    "    for test_point in x_test:\n",
    "        distance_point = distance_ecu(x_train, test_point)\n",
    "        df_nearest_point = nearest_neighbors(distance_point, k)\n",
    "        y_pred_point = voting(df_nearest_point, y_train)\n",
    "        y_pred.append(y_pred_point)\n",
    "    return y_pred"
   ]
  },
  {
   "cell_type": "markdown",
   "id": "97217242",
   "metadata": {},
   "source": [
    "--------------"
   ]
  },
  {
   "cell_type": "markdown",
   "id": "689d4847",
   "metadata": {},
   "source": [
    "## <div style=\"text-align:center\" > Testing KNN Implementation Before Normalization </div>"
   ]
  },
  {
   "cell_type": "markdown",
   "id": "0bfeefbb",
   "metadata": {},
   "source": [
    "### Applying KNN when k=3"
   ]
  },
  {
   "cell_type": "code",
   "execution_count": 21,
   "id": "d63f0022",
   "metadata": {},
   "outputs": [
    {
     "name": "stdout",
     "output_type": "stream",
     "text": [
      "The accuracy of your implementation is 0.9666666666666667\n",
      "The accuracy of scikit-learn implementation is 0.9666666666666667\n"
     ]
    }
   ],
   "source": [
    "y_pred_scratch_k3 = KNN_from_scratch(X_train, y_train, X_test, 3)\n",
    "\n",
    "knn_3 = KNeighborsClassifier(n_neighbors=3)\n",
    "knn_3.fit(X_train, y_train)\n",
    "y_pred_sklearn_3 = knn_3.predict(X_test)\n",
    "\n",
    "accuracy_your_implementation_3 = accuracy_score(y_test, y_pred_scratch_k3)\n",
    "accuracy_sklearn_3 = accuracy_score(y_test, y_pred_sklearn_3)\n",
    "\n",
    "print(f'The accuracy of your implementation is {accuracy_your_implementation_3}')\n",
    "print(f'The accuracy of scikit-learn implementation is {accuracy_sklearn_3}')"
   ]
  },
  {
   "cell_type": "markdown",
   "id": "3f92713a",
   "metadata": {},
   "source": [
    "### Applying KNN when k=5"
   ]
  },
  {
   "cell_type": "code",
   "execution_count": 22,
   "id": "144edcf2",
   "metadata": {},
   "outputs": [
    {
     "name": "stdout",
     "output_type": "stream",
     "text": [
      "The accuracy of your implementation is 1.0\n",
      "The accuracy of scikit-learn implementation is 1.0\n"
     ]
    }
   ],
   "source": [
    "y_pred_scratch_k5 = KNN_from_scratch(X_train, y_train, X_test, 5)\n",
    "\n",
    "knn_5 = KNeighborsClassifier(n_neighbors=5)\n",
    "knn_5.fit(X_train, y_train)\n",
    "y_pred_sklearn_5 = knn_5.predict(X_test)\n",
    "\n",
    "accuracy_your_implementation_5 = accuracy_score(y_test, y_pred_scratch_k5)\n",
    "accuracy_sklearn_5 = accuracy_score(y_test, y_pred_sklearn_5)\n",
    "\n",
    "print(f'The accuracy of your implementation is {accuracy_your_implementation_5}')\n",
    "print(f'The accuracy of scikit-learn implementation is {accuracy_sklearn_5}')"
   ]
  },
  {
   "cell_type": "markdown",
   "id": "999bdd33",
   "metadata": {},
   "source": [
    "### Applying KNN when k=7"
   ]
  },
  {
   "cell_type": "code",
   "execution_count": 23,
   "id": "5aaa401b",
   "metadata": {},
   "outputs": [
    {
     "name": "stdout",
     "output_type": "stream",
     "text": [
      "The accuracy of your implementation is 0.9666666666666667\n",
      "The accuracy of scikit-learn implementation is 0.9666666666666667\n"
     ]
    }
   ],
   "source": [
    "y_pred_scratch_k7 = KNN_from_scratch(X_train, y_train, X_test, 7)\n",
    "\n",
    "knn_7 = KNeighborsClassifier(n_neighbors=7)\n",
    "knn_7.fit(X_train, y_train)\n",
    "y_pred_sklearn_7 = knn_7.predict(X_test)\n",
    "\n",
    "accuracy_your_implementation_7 = accuracy_score(y_test, y_pred_scratch_k7)\n",
    "accuracy_sklearn_7= accuracy_score(y_test, y_pred_sklearn_7)\n",
    "\n",
    "print(f'The accuracy of your implementation is {accuracy_your_implementation_7}')\n",
    "print(f'The accuracy of scikit-learn implementation is {accuracy_sklearn_7}')"
   ]
  },
  {
   "cell_type": "markdown",
   "id": "140557e9",
   "metadata": {},
   "source": [
    "-------"
   ]
  },
  {
   "cell_type": "markdown",
   "id": "ef51b87e",
   "metadata": {},
   "source": [
    "## <div style=\"text-align:center\" > Testing KNN Implementation After Normalization </div>"
   ]
  },
  {
   "cell_type": "markdown",
   "id": "f055e08f",
   "metadata": {},
   "source": [
    "### Applying KNN when k=3"
   ]
  },
  {
   "cell_type": "code",
   "execution_count": 24,
   "id": "711685ea",
   "metadata": {},
   "outputs": [
    {
     "name": "stdout",
     "output_type": "stream",
     "text": [
      "The accuracy of your implementation is 1.0\n",
      "The accuracy of scikit-learn implementation is 1.0\n"
     ]
    }
   ],
   "source": [
    "y_pred_scratch_k3_norm = KNN_from_scratch(X_train_normalized, y_train, X_test_normalized, 3)\n",
    "\n",
    "knn_3_norm = KNeighborsClassifier(n_neighbors=3)\n",
    "knn_3_norm.fit(X_train_normalized, y_train)\n",
    "y_pred_sklearn_3_norm = knn_3_norm.predict(X_test_normalized)\n",
    "\n",
    "accuracy_your_implementation_3_norm = accuracy_score(y_test, y_pred_scratch_k3_norm)\n",
    "accuracy_sklearn_3_norm = accuracy_score(y_test, y_pred_sklearn_3_norm)\n",
    "\n",
    "print(f'The accuracy of your implementation is {accuracy_your_implementation_3_norm}')\n",
    "print(f'The accuracy of scikit-learn implementation is {accuracy_sklearn_3_norm}')"
   ]
  },
  {
   "cell_type": "markdown",
   "id": "7a09a99e",
   "metadata": {},
   "source": [
    "### Applying KNN when k=5"
   ]
  },
  {
   "cell_type": "code",
   "execution_count": 25,
   "id": "5b40fe14",
   "metadata": {},
   "outputs": [
    {
     "name": "stdout",
     "output_type": "stream",
     "text": [
      "The accuracy of your implementation is 0.9666666666666667\n",
      "The accuracy of scikit-learn implementation is 0.9666666666666667\n"
     ]
    }
   ],
   "source": [
    "y_pred_scratch_k5_norm = KNN_from_scratch(X_train_normalized, y_train, X_test_normalized, 5)\n",
    "\n",
    "knn_5_norm = KNeighborsClassifier(n_neighbors=5)\n",
    "knn_5_norm.fit(X_train_normalized, y_train)\n",
    "y_pred_sklearn_5_norm = knn_5_norm.predict(X_test_normalized)\n",
    "\n",
    "accuracy_your_implementation_5_norm = accuracy_score(y_test, y_pred_scratch_k5_norm)\n",
    "accuracy_sklearn_5_norm = accuracy_score(y_test, y_pred_sklearn_5_norm)\n",
    "\n",
    "print(f'The accuracy of your implementation is {accuracy_your_implementation_5_norm}')\n",
    "print(f'The accuracy of scikit-learn implementation is {accuracy_sklearn_5_norm}')"
   ]
  },
  {
   "cell_type": "markdown",
   "id": "6fe57f0c",
   "metadata": {},
   "source": [
    "### Applying KNN when k=7"
   ]
  },
  {
   "cell_type": "code",
   "execution_count": 26,
   "id": "5bdd5a96",
   "metadata": {},
   "outputs": [
    {
     "name": "stdout",
     "output_type": "stream",
     "text": [
      "The accuracy of your implementation is 0.9666666666666667\n",
      "The accuracy of scikit-learn implementation is 0.9666666666666667\n"
     ]
    }
   ],
   "source": [
    "y_pred_scratch_k7_norm = KNN_from_scratch(X_train_normalized, y_train, X_test_normalized, 7)\n",
    "\n",
    "knn_7_norm = KNeighborsClassifier(n_neighbors=7)\n",
    "knn_7_norm.fit(X_train_normalized, y_train)\n",
    "y_pred_sklearn_7_norm = knn_7_norm.predict(X_test_normalized)\n",
    "\n",
    "accuracy_your_implementation_7_norm = accuracy_score(y_test, y_pred_scratch_k7_norm)\n",
    "accuracy_sklearn_7_norm= accuracy_score(y_test, y_pred_sklearn_7_norm)\n",
    "\n",
    "print(f'The accuracy of your implementation is {accuracy_your_implementation_7_norm}')\n",
    "print(f'The accuracy of scikit-learn implementation is {accuracy_sklearn_7_norm}')"
   ]
  },
  {
   "cell_type": "markdown",
   "id": "b9c44209",
   "metadata": {},
   "source": [
    "--------------"
   ]
  },
  {
   "cell_type": "markdown",
   "id": "6d6d1517",
   "metadata": {},
   "source": [
    "## <div style=\"text-align:center\" > Testing Summary </div>"
   ]
  },
  {
   "cell_type": "code",
   "execution_count": 71,
   "id": "bb833343",
   "metadata": {},
   "outputs": [
    {
     "name": "stdout",
     "output_type": "stream",
     "text": [
      "KNN when k=3 accuracy before normalization is 96.67% and after is 100.00%\n",
      "KNN when k=5 accuracy before normalization is 100.00% and after is 96.67%\n",
      "KNN when k=7 accuracy before normalization is 96.67% and after is 96.67%\n"
     ]
    }
   ],
   "source": [
    "print(f\"KNN when k=3 accuracy before normalization is {accuracy_your_implementation_3*100:.2f}% \\\n",
    "and after is {accuracy_sklearn_3_norm*100:.2f}%\")\n",
    "print(f\"KNN when k=5 accuracy before normalization is {accuracy_your_implementation_5*100:.2f}% \\\n",
    "and after is {accuracy_sklearn_5_norm*100:.2f}%\")\n",
    "print(f\"KNN when k=7 accuracy before normalization is {accuracy_your_implementation_7*100:.2f}% \\\n",
    "and after is {accuracy_sklearn_7_norm*100:.2f}%\")"
   ]
  },
  {
   "cell_type": "markdown",
   "id": "b41ad031",
   "metadata": {},
   "source": [
    "---------"
   ]
  },
  {
   "cell_type": "markdown",
   "id": "e39522bb",
   "metadata": {},
   "source": [
    "## <div style=\"text-align:center; color:#ff5252\"> Optioal - Using PCA to visualize the Dataset (as 2-D)</div>"
   ]
  },
  {
   "cell_type": "code",
   "execution_count": 72,
   "id": "137ee1af",
   "metadata": {},
   "outputs": [],
   "source": [
    "from sklearn.decomposition import PCA\n",
    "from sklearn.preprocessing import StandardScaler\n",
    "import matplotlib.pyplot as plt"
   ]
  },
  {
   "cell_type": "code",
   "execution_count": 85,
   "id": "b6a5e815",
   "metadata": {},
   "outputs": [],
   "source": [
    "scaler = StandardScaler()\n",
    "X_scaled = scaler.fit_transform(X)"
   ]
  },
  {
   "cell_type": "code",
   "execution_count": 75,
   "id": "a3b02b0d",
   "metadata": {},
   "outputs": [],
   "source": [
    "pca = PCA(n_components=2)\n",
    "X_pca_df = pd.DataFrame(pca.fit_transform(X_scaled), columns=[\"PC1\", \"PC2\"])"
   ]
  },
  {
   "cell_type": "code",
   "execution_count": 80,
   "id": "55c05c14",
   "metadata": {},
   "outputs": [
    {
     "data": {
      "image/png": "[encoded data removed]",
      "text/plain": [
       "<Figure size 800x600 with 1 Axes>"
      ]
     },
     "metadata": {},
     "output_type": "display_data"
    }
   ],
   "source": [
    "plt.figure(figsize=(8, 6))\n",
    "plt.scatter(X_pca_df[\"PC1\"], X_pca_df[\"PC2\"], c=iris_df['target'], cmap='viridis')\n",
    "plt.xlabel(\"PC1\")\n",
    "plt.ylabel(\"PC2\")\n",
    "plt.title(\"Iris Dataset in 2D PCA Space\")\n",
    "plt.show()"
   ]
  }
 ],
 "metadata": {
  "kernelspec": {
   "display_name": "Python 3 (ipykernel)",
   "language": "python",
   "name": "python3"
  },
  "language_info": {
   "codemirror_mode": {
    "name": "ipython",
    "version": 3
   },
   "file_extension": ".py",
   "mimetype": "text/x-python",
   "name": "python",
   "nbconvert_exporter": "python",
   "pygments_lexer": "ipython3",
   "version": "3.11.5"
  }
 },
 "nbformat": 4,
 "nbformat_minor": 5
}
